{
 "cells": [
  {
   "cell_type": "markdown",
   "id": "5b3d9690",
   "metadata": {},
   "source": [
    "#### Importing libraries"
   ]
  },
  {
   "cell_type": "code",
   "execution_count": 88,
   "id": "5b6509a5",
   "metadata": {},
   "outputs": [],
   "source": [
    "import os, json, numpy as np, pandas as pd\n",
    "from sklearn.feature_extraction.text import TfidfVectorizer\n",
    "from sklearn.linear_model import LogisticRegression\n",
    "from sklearn.model_selection import StratifiedKFold\n",
    "from sklearn.metrics import roc_auc_score, roc_curve\n",
    "from pathlib import Path"
   ]
  },
  {
   "cell_type": "markdown",
   "id": "6a3aad04",
   "metadata": {},
   "source": [
    "#### Defining config constants"
   ]
  },
  {
   "cell_type": "code",
   "execution_count": 89,
   "id": "acdf7fc4",
   "metadata": {},
   "outputs": [],
   "source": [
    "RANDOM_STATE = 42 # Sets a fixed random seed so results are reproducible\n",
    "N_SPLITS = 5 # Number of folds for K-Fold Cross Validation\n",
    "MAX_FEATURES = 100_000 # Maximum number of features (words or tokens) the TF-IDF vectorizer will keep\n",
    "LR_C = 4.0 # A hyperparameter for Logistic Regression that controls regularization strength."
   ]
  },
  {
   "cell_type": "markdown",
   "id": "d7904d4e",
   "metadata": {},
   "source": [
    "#### Loading data"
   ]
  },
  {
   "cell_type": "code",
   "execution_count": 90,
   "id": "9719f32c",
   "metadata": {},
   "outputs": [],
   "source": [
    "data = Path(\"../data\")\n",
    "train_path = data/\"train.csv\"\n",
    "test_path = data/\"test.csv\"\n",
    "sample_submission_path = data/\"sample_submission.csv\""
   ]
  },
  {
   "cell_type": "code",
   "execution_count": 91,
   "id": "4b476542",
   "metadata": {},
   "outputs": [],
   "source": [
    "train = pd.read_csv(train_path)\n",
    "test = pd.read_csv(test_path)\n",
    "sample_submission = pd.read_csv(sample_submission_path)"
   ]
  },
  {
   "cell_type": "code",
   "execution_count": 92,
   "id": "bc999b97",
   "metadata": {},
   "outputs": [
    {
     "data": {
      "text/plain": [
       "(2029, 9)"
      ]
     },
     "execution_count": 92,
     "metadata": {},
     "output_type": "execute_result"
    }
   ],
   "source": [
    "train.shape"
   ]
  },
  {
   "cell_type": "markdown",
   "id": "4610df7f",
   "metadata": {},
   "source": [
    "#### Checking columns in ***train*** dataset"
   ]
  },
  {
   "cell_type": "code",
   "execution_count": 93,
   "id": "adc949da",
   "metadata": {},
   "outputs": [
    {
     "data": {
      "text/plain": [
       "Index(['row_id', 'body', 'rule', 'subreddit', 'positive_example_1',\n",
       "       'positive_example_2', 'negative_example_1', 'negative_example_2',\n",
       "       'rule_violation'],\n",
       "      dtype='object')"
      ]
     },
     "execution_count": 93,
     "metadata": {},
     "output_type": "execute_result"
    }
   ],
   "source": [
    "train.columns"
   ]
  },
  {
   "cell_type": "markdown",
   "id": "5b892ec4",
   "metadata": {},
   "source": [
    "#### Build modeling text"
   ]
  },
  {
   "cell_type": "code",
   "execution_count": 94,
   "id": "a7f442d2",
   "metadata": {},
   "outputs": [],
   "source": [
    "def build_text(df):\n",
    "    return (df[\"body\"].astype(str) + \" [RULE] \" + df[\"rule\"].astype(str)).str.strip()\n",
    "\n",
    "train[\"comment_text\"] = build_text(train)\n",
    "test[\"comment_text\"] = build_text(test)"
   ]
  },
  {
   "cell_type": "markdown",
   "id": "df06a34e",
   "metadata": {},
   "source": [
    "#### Setting ***rule_violation*** as target label\n",
    "\n",
    "<ul>\n",
    "    <li>Ensuring the data type of target variable is integer</li>\n",
    "    <li>Extracts the column as a NumPy array</li>\n",
    "</ul>"
   ]
  },
  {
   "cell_type": "code",
   "execution_count": 95,
   "id": "9aa2e0b4",
   "metadata": {},
   "outputs": [],
   "source": [
    "target = train[\"rule_violation\"].astype(int).values"
   ]
  },
  {
   "cell_type": "markdown",
   "id": "1dbbdb23",
   "metadata": {},
   "source": [
    "#### Checking the comment_text and rule_violation in train dataset"
   ]
  },
  {
   "cell_type": "code",
   "execution_count": 96,
   "id": "e7c9407f",
   "metadata": {},
   "outputs": [
    {
     "data": {
      "text/html": [
       "<div>\n",
       "<style scoped>\n",
       "    .dataframe tbody tr th:only-of-type {\n",
       "        vertical-align: middle;\n",
       "    }\n",
       "\n",
       "    .dataframe tbody tr th {\n",
       "        vertical-align: top;\n",
       "    }\n",
       "\n",
       "    .dataframe thead th {\n",
       "        text-align: right;\n",
       "    }\n",
       "</style>\n",
       "<table border=\"1\" class=\"dataframe\">\n",
       "  <thead>\n",
       "    <tr style=\"text-align: right;\">\n",
       "      <th></th>\n",
       "      <th>comment_text</th>\n",
       "      <th>rule_violation</th>\n",
       "    </tr>\n",
       "  </thead>\n",
       "  <tbody>\n",
       "    <tr>\n",
       "      <th>0</th>\n",
       "      <td>Banks don't want you to know this! Click here ...</td>\n",
       "      <td>0</td>\n",
       "    </tr>\n",
       "    <tr>\n",
       "      <th>1</th>\n",
       "      <td>SD Stream [ ENG Link 1] (http://www.sportsstre...</td>\n",
       "      <td>0</td>\n",
       "    </tr>\n",
       "    <tr>\n",
       "      <th>2</th>\n",
       "      <td>Lol. Try appealing the ban and say you won't d...</td>\n",
       "      <td>1</td>\n",
       "    </tr>\n",
       "    <tr>\n",
       "      <th>3</th>\n",
       "      <td>she will come your home open her legs with  an...</td>\n",
       "      <td>1</td>\n",
       "    </tr>\n",
       "    <tr>\n",
       "      <th>4</th>\n",
       "      <td>code free tyrande ---&gt;&gt;&gt; [Imgur](http://i.imgu...</td>\n",
       "      <td>1</td>\n",
       "    </tr>\n",
       "  </tbody>\n",
       "</table>\n",
       "</div>"
      ],
      "text/plain": [
       "                                        comment_text  rule_violation\n",
       "0  Banks don't want you to know this! Click here ...               0\n",
       "1  SD Stream [ ENG Link 1] (http://www.sportsstre...               0\n",
       "2  Lol. Try appealing the ban and say you won't d...               1\n",
       "3  she will come your home open her legs with  an...               1\n",
       "4  code free tyrande --->>> [Imgur](http://i.imgu...               1"
      ]
     },
     "execution_count": 96,
     "metadata": {},
     "output_type": "execute_result"
    }
   ],
   "source": [
    "train[[\"comment_text\", \"rule_violation\"]].head()"
   ]
  },
  {
   "cell_type": "markdown",
   "id": "fcacac5b",
   "metadata": {},
   "source": [
    "#### TF-IDF with 1-2 grams"
   ]
  },
  {
   "cell_type": "code",
   "execution_count": 97,
   "id": "f0c2a751",
   "metadata": {},
   "outputs": [],
   "source": [
    "vectorizer = TfidfVectorizer(\n",
    "    ngram_range = (1,2),\n",
    "    max_features = MAX_FEATURES,\n",
    "    min_df = 2,\n",
    "    strip_accents = \"unicode\",\n",
    "    lowercase = True,\n",
    "    sublinear_tf = True\n",
    "\n",
    ")"
   ]
  },
  {
   "cell_type": "markdown",
   "id": "2909e5ac",
   "metadata": {},
   "source": [
    "#### fit the vectorizer on train, transform test"
   ]
  },
  {
   "cell_type": "code",
   "execution_count": 98,
   "id": "29343c12",
   "metadata": {},
   "outputs": [],
   "source": [
    "# fit_transform --> Learn vocabulary + transform\n",
    "# fit looks at all the training text and learns the vocabulary & statistics it needs.\n",
    "# transform → Converts each training text into its TF-IDF vector using that learned vocabulary.\n",
    "X = vectorizer.fit_transform(train[\"comment_text\"].values)\n"
   ]
  },
  {
   "cell_type": "code",
   "execution_count": 99,
   "id": "8cdb8c93",
   "metadata": {},
   "outputs": [],
   "source": [
    "# transform --> Reuse learned vocabulary; no leakage\n",
    "# Use the vocabulary learned from training to convert test comments into vectors.\n",
    "X_test = vectorizer.transform(test[\"comment_text\"].values)\n",
    "feature_names = np.array(vectorizer.get_feature_names_out()) "
   ]
  },
  {
   "cell_type": "code",
   "execution_count": 100,
   "id": "16b70a92",
   "metadata": {},
   "outputs": [
    {
     "data": {
      "text/plain": [
       "(2029, 10252)"
      ]
     },
     "execution_count": 100,
     "metadata": {},
     "output_type": "execute_result"
    }
   ],
   "source": [
    "X.shape"
   ]
  },
  {
   "cell_type": "code",
   "execution_count": 101,
   "id": "61efb0e0",
   "metadata": {},
   "outputs": [
    {
     "data": {
      "text/plain": [
       "(10, 10252)"
      ]
     },
     "execution_count": 101,
     "metadata": {},
     "output_type": "execute_result"
    }
   ],
   "source": [
    "X_test.shape"
   ]
  },
  {
   "cell_type": "markdown",
   "id": "86adf8ab",
   "metadata": {},
   "source": [
    "#### K-Fold Split"
   ]
  },
  {
   "cell_type": "markdown",
   "id": "70e680fc",
   "metadata": {},
   "source": [
    "<ul>\n",
    "    <li>Create a K-fold splitter with the preservation of class ratio in rule_violations</li>\n",
    "    <li>n_splits define number of folds</li>\n",
    "</ul>"
   ]
  },
  {
   "cell_type": "code",
   "execution_count": 102,
   "id": "db4f8db6",
   "metadata": {},
   "outputs": [],
   "source": [
    "skf = StratifiedKFold(n_splits=N_SPLITS, shuffle=True, random_state=RANDOM_STATE)"
   ]
  },
  {
   "cell_type": "code",
   "execution_count": 103,
   "id": "16f0fd26",
   "metadata": {},
   "outputs": [],
   "source": [
    "\n",
    "# Pre-allocate an array for \"out-of-fold\" predictions (OOF) for every train row.\n",
    "# We'll fill the validation predictions for each fold at the appropriate indices.\n",
    "oof = np.zeros(len(train), dtype=float)"
   ]
  },
  {
   "cell_type": "code",
   "execution_count": 104,
   "id": "1ef1d551",
   "metadata": {},
   "outputs": [],
   "source": [
    "# Lists to collect per-fold AUCs and ROC curves for later reporting/plotting\n",
    "fold_aucs, roc_curves = [], []"
   ]
  },
  {
   "cell_type": "code",
   "execution_count": 105,
   "id": "a3edaf5a",
   "metadata": {},
   "outputs": [
    {
     "name": "stdout",
     "output_type": "stream",
     "text": [
      "[Fold 1] AUC = 0.8381\n",
      "[Fold 2] AUC = 0.7757\n",
      "[Fold 3] AUC = 0.8294\n",
      "[Fold 4] AUC = 0.8476\n",
      "[Fold 5] AUC = 0.7912\n"
     ]
    }
   ],
   "source": [
    "# Loop over each fold - skf.split(X,y) yields (train_indices, valid_indices) for that fold.\n",
    "\n",
    "for fold, (tr_idx, va_idx) in enumerate(skf.split(X,target), 1):\n",
    "    X_tr, X_va = X[tr_idx], X[va_idx]\n",
    "    y_tr, y_va = target[tr_idx], target[va_idx]\n",
    "\n",
    "    # Define a simple logistic Regression classifier for sparse data\n",
    "\n",
    "    clf = LogisticRegression(\n",
    "        solver=\"liblinear\",\n",
    "        C=LR_C,\n",
    "        max_iter=200,\n",
    "        random_state = RANDOM_STATE\n",
    "    )\n",
    "\n",
    "    # Fit the model on this fold's training split\n",
    "    clf.fit(X_tr, y_tr)\n",
    "\n",
    "    # Get predicted probabilities for the positive class on the validation split\n",
    "    va_prob = clf.predict_proba(X_va)[:, 1]\n",
    "\n",
    "    # Store the validation predictions into the OOF array at the proper indices\n",
    "    # After the loop, oof contains a prediction for every training row \n",
    "    oof[va_idx] = va_prob\n",
    "\n",
    "    # Compute ROC-AUC for this fold's validation set \n",
    "    auc = roc_auc_score(y_va, va_prob)\n",
    "\n",
    "    # Also compute the ROC curve points (FPR, TPR) to visualize later if desired\n",
    "    fpr, tpr, _ = roc_curve(y_va, va_prob)\n",
    "\n",
    "    # Keep the fold’s AUC and ROC points for reporting/plots\n",
    "    fold_aucs.append(float(auc))\n",
    "    roc_curves.append({\"fold\": fold, \"fpr\": fpr.tolist(), \"tpr\": tpr.tolist(), \"auc\": float(auc)})\n",
    "    \n",
    "    # Print a quick fold-level score for visibility during training\n",
    "    print(f\"[Fold {fold}] AUC = {auc:.4f}\")"
   ]
  },
  {
   "cell_type": "code",
   "execution_count": 106,
   "id": "dfb979e4",
   "metadata": {},
   "outputs": [
    {
     "name": "stdout",
     "output_type": "stream",
     "text": [
      "\n",
      "CV mean AUC = 0.816 ± 0.028\n",
      "OOF AUC     = 0.815\n"
     ]
    }
   ],
   "source": [
    "cv_mean, cv_std = float(np.mean(fold_aucs)), float(np.std(fold_aucs))\n",
    "oof_auc = float(roc_auc_score(target, oof))\n",
    "print(f\"\\nCV mean AUC = {cv_mean:.3f} ± {cv_std:.3f}\")\n",
    "print(f\"OOF AUC     = {oof_auc:.3f}\")\n"
   ]
  },
  {
   "cell_type": "markdown",
   "id": "1cdf1ea4",
   "metadata": {},
   "source": [
    "#### Train on full train & predict test"
   ]
  },
  {
   "cell_type": "code",
   "execution_count": 107,
   "id": "d2f022db",
   "metadata": {},
   "outputs": [
    {
     "data": {
      "text/plain": [
       "(array([0.25230146, 0.49921108, 0.72459443, 0.75605797, 0.82902639]),\n",
       " np.float64(0.084185754265707),\n",
       " np.float64(0.8422189769754849))"
      ]
     },
     "execution_count": 107,
     "metadata": {},
     "output_type": "execute_result"
    }
   ],
   "source": [
    "clf_full = LogisticRegression(\n",
    "    solver=\"liblinear\",\n",
    "    C=LR_C,\n",
    "    max_iter=200,\n",
    "    random_state=RANDOM_STATE\n",
    ")\n",
    "clf_full.fit(X, target)\n",
    "\n",
    "test_prob = clf_full.predict_proba(X_test)[:, 1]\n",
    "test_prob[:5], test_prob.min(), test_prob.max()\n"
   ]
  },
  {
   "cell_type": "code",
   "execution_count": 108,
   "id": "d86d2d6f",
   "metadata": {},
   "outputs": [],
   "source": [
    "# Create submission DataFrame\n",
    "\n",
    "submission = pd.DataFrame({\n",
    "    \"row_id\": test[\"row_id\"],        # use row_id from test dataset\n",
    "    \"rule_violation\": test_prob      # predictions from model\n",
    "})"
   ]
  },
  {
   "cell_type": "code",
   "execution_count": 110,
   "id": "fa3abd88",
   "metadata": {},
   "outputs": [],
   "source": [
    "submission.to_csv(\"submission.csv\", index=False)"
   ]
  }
 ],
 "metadata": {
  "kernelspec": {
   "display_name": ".venv",
   "language": "python",
   "name": "python3"
  },
  "language_info": {
   "codemirror_mode": {
    "name": "ipython",
    "version": 3
   },
   "file_extension": ".py",
   "mimetype": "text/x-python",
   "name": "python",
   "nbconvert_exporter": "python",
   "pygments_lexer": "ipython3",
   "version": "3.11.3"
  }
 },
 "nbformat": 4,
 "nbformat_minor": 5
}
