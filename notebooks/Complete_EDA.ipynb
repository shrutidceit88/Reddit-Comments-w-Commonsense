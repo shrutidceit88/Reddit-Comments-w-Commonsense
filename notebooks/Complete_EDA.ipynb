{
 "cells": [
  {
   "cell_type": "markdown",
   "id": "4c8ce710",
   "metadata": {},
   "source": [
    "#### Import libraries"
   ]
  },
  {
   "cell_type": "code",
   "execution_count": 5,
   "id": "f1d012d8",
   "metadata": {},
   "outputs": [],
   "source": [
    "import pandas as pd, numpy as np, re, textwrap, string\n",
    "import matplotlib.pyplot as plt\n",
    "from collections import Counter\n",
    "from sklearn.feature_extraction.text import CountVectorizer\n",
    "from sklearn.feature_selection import chi2, mutual_info_classif\n",
    "from sklearn.preprocessing import LabelEncoder\n",
    "from pathlib import Path\n"
   ]
  },
  {
   "cell_type": "markdown",
   "id": "1308f8c5",
   "metadata": {},
   "source": [
    "#### Setting the text column characters width to 200"
   ]
  },
  {
   "cell_type": "code",
   "execution_count": null,
   "id": "9e2c0f23",
   "metadata": {},
   "outputs": [],
   "source": [
    "pd.set_option(\"display.max_colwidth\", 200)"
   ]
  },
  {
   "cell_type": "markdown",
   "id": "8fb111b8",
   "metadata": {},
   "source": [
    "#### Load Data"
   ]
  },
  {
   "cell_type": "code",
   "execution_count": 6,
   "id": "ba0a8a9b",
   "metadata": {},
   "outputs": [],
   "source": [
    "data = Path(\"../data\")"
   ]
  },
  {
   "cell_type": "code",
   "execution_count": 7,
   "id": "ce946c9e",
   "metadata": {},
   "outputs": [],
   "source": [
    "train_path = data/\"train.csv\"\n",
    "test_path = data/\"test.csv\"\n",
    "sample_submission_path = data/\"sample_submission.csv\""
   ]
  },
  {
   "cell_type": "code",
   "execution_count": 8,
   "id": "6cebc2e7",
   "metadata": {},
   "outputs": [],
   "source": [
    "train = pd.read_csv(train_path)\n",
    "test = pd.read_csv(test_path)\n",
    "sample_submission = pd.read_csv(sample_submission_path)"
   ]
  },
  {
   "cell_type": "markdown",
   "id": "d9384e85",
   "metadata": {},
   "source": [
    "#### Standardize column names in ***'train'*** dataset"
   ]
  },
  {
   "cell_type": "code",
   "execution_count": 9,
   "id": "5976dd95",
   "metadata": {},
   "outputs": [],
   "source": [
    "train.columns = [c.strip().lower() for c in train.columns]\n",
    "target = \"rule_violation\"\n",
    "text_cols = [\"body\", \"rule\", \"positive_example_1\", \"positive_example_2\", \"negative_example_1\", \"negative_example_2\"]\n",
    "cat_cols = [\"subreddit\"]\n",
    "id_cols = [\"row_id\"]"
   ]
  },
  {
   "cell_type": "markdown",
   "id": "bd67e737",
   "metadata": {},
   "source": [
    "#### Exploring the ***train*** dataset"
   ]
  },
  {
   "cell_type": "code",
   "execution_count": 10,
   "id": "80010d0a",
   "metadata": {},
   "outputs": [
    {
     "name": "stdout",
     "output_type": "stream",
     "text": [
      "<class 'pandas.core.frame.DataFrame'>\n",
      "RangeIndex: 2029 entries, 0 to 2028\n",
      "Data columns (total 9 columns):\n",
      " #   Column              Non-Null Count  Dtype \n",
      "---  ------              --------------  ----- \n",
      " 0   row_id              2029 non-null   int64 \n",
      " 1   body                2029 non-null   object\n",
      " 2   rule                2029 non-null   object\n",
      " 3   subreddit           2029 non-null   object\n",
      " 4   positive_example_1  2029 non-null   object\n",
      " 5   positive_example_2  2029 non-null   object\n",
      " 6   negative_example_1  2029 non-null   object\n",
      " 7   negative_example_2  2029 non-null   object\n",
      " 8   rule_violation      2029 non-null   int64 \n",
      "dtypes: int64(2), object(7)\n",
      "memory usage: 142.8+ KB\n"
     ]
    }
   ],
   "source": [
    "train.info()"
   ]
  },
  {
   "cell_type": "code",
   "execution_count": 11,
   "id": "9e1119f5",
   "metadata": {},
   "outputs": [
    {
     "data": {
      "text/html": [
       "<div>\n",
       "<style scoped>\n",
       "    .dataframe tbody tr th:only-of-type {\n",
       "        vertical-align: middle;\n",
       "    }\n",
       "\n",
       "    .dataframe tbody tr th {\n",
       "        vertical-align: top;\n",
       "    }\n",
       "\n",
       "    .dataframe thead th {\n",
       "        text-align: right;\n",
       "    }\n",
       "</style>\n",
       "<table border=\"1\" class=\"dataframe\">\n",
       "  <thead>\n",
       "    <tr style=\"text-align: right;\">\n",
       "      <th></th>\n",
       "      <th>row_id</th>\n",
       "      <th>body</th>\n",
       "      <th>rule</th>\n",
       "      <th>subreddit</th>\n",
       "      <th>positive_example_1</th>\n",
       "      <th>positive_example_2</th>\n",
       "      <th>negative_example_1</th>\n",
       "      <th>negative_example_2</th>\n",
       "      <th>rule_violation</th>\n",
       "    </tr>\n",
       "  </thead>\n",
       "  <tbody>\n",
       "    <tr>\n",
       "      <th>1356</th>\n",
       "      <td>1356</td>\n",
       "      <td>All people visit your sister therein such a tits! http://codimenu.com/ac/16php</td>\n",
       "      <td>No Advertising: Spam, referral links, unsolicited advertising, and promotional content are not allowed.</td>\n",
       "      <td>funny</td>\n",
       "      <td>49 http://MySexFind.com - find girl for sex now 49!</td>\n",
       "      <td>FindSexToday . com - free girls for sex worldwide 3oBKmqU6XiS14!</td>\n",
       "      <td>SD Stream [Spanish Stream](http://www.expresssports.ml/p/adsbygoogle-window_146.html)    \\nMobile : Not Compatible</td>\n",
       "      <td>Here's the link. \\n\\nhttp://www.powerhousetradingsystem.com/trading.html</td>\n",
       "      <td>1</td>\n",
       "    </tr>\n",
       "    <tr>\n",
       "      <th>984</th>\n",
       "      <td>984</td>\n",
       "      <td>Try and see if someone at www.siddhantayoga.com can help you ...</td>\n",
       "      <td>No Advertising: Spam, referral links, unsolicited advertising, and promotional content are not allowed.</td>\n",
       "      <td>SuicideWatch</td>\n",
       "      <td>Ray-Ban Sunglasses Special Sale at $24.99 Shop Now &gt;&gt;&gt; http://www.rbsclassic.com</td>\n",
       "      <td>Help my mans get to 500 dollars\\nhttp://referdone.com/?share=10399</td>\n",
       "      <td>If anyone is interested in donating 5 or 10 bucks https://timcanova.com/</td>\n",
       "      <td>Same shit happened to me man.  EXACT same thing, so it's probably AmWay.  They got that procedure down pat, probably because it works so well.  At the end, I tried to reason with the guy because h...</td>\n",
       "      <td>0</td>\n",
       "    </tr>\n",
       "    <tr>\n",
       "      <th>859</th>\n",
       "      <td>859</td>\n",
       "      <td>DOUBLE CEE x BANDS EPPS - \"BIRDS\"\\n\\nDOWNLOAD/STREAM:\\n\\nhttp://music.theblacksmithed.com/download/birds/</td>\n",
       "      <td>No Advertising: Spam, referral links, unsolicited advertising, and promotional content are not allowed.</td>\n",
       "      <td>movies</td>\n",
       "      <td>My pecker tried best holes at this point now you win this prize http://hothor.se/1xqhk</td>\n",
       "      <td>Trying to raise some funds on PayPal for a boob job any donations appreciated 1-100 I'm up for anything have loads of pictures and videos to share also just about to shower so can take more 😘😘 I'm...</td>\n",
       "      <td>How to Record Android or IPhone Screen  Without Rooted Devices . Full Tutorial Watch here https://m.youtube.com/watch?v=FyD2MYbSnKE</td>\n",
       "      <td>SD Stream Eng - [Chelsea TV USA](http://soccerstreamsarena.com/chelsea-u23-vs-tottenham-u23-live-epl2-09-sep-2016/) \\n\\nMobile : Compatible With Android Puffin Browser</td>\n",
       "      <td>0</td>\n",
       "    </tr>\n",
       "    <tr>\n",
       "      <th>1983</th>\n",
       "      <td>1983</td>\n",
       "      <td>WWW.CSGOPOT.COM USE PROMO: CSGOPOTPRO FOR FREE DIAMONDS WWW.CSGOPOT.COM</td>\n",
       "      <td>No Advertising: Spam, referral links, unsolicited advertising, and promotional content are not allowed.</td>\n",
       "      <td>GlobalOffensive</td>\n",
       "      <td>**Dortmund vs Real Madrid Live Stream**\\n\\n**&lt;&lt;&lt; http://www.dortmund-vs-realmadrid-live.cf &gt;&gt;&gt;**\\n\\n**HD Quality Streams**\\n\\n**&lt;&lt;&lt; http://www.dortmund-vs-realmadrid-live.cf &gt;&gt;&gt;**\\n\\n**HD SOUND Qu...</td>\n",
       "      <td>Selling Tyrande code for 3€ to paypal. PM if interested.\\n\\nProof of satisfied Tyrande owners: http://imgur.com/a/jydZ7 http://imgur.com/a/jIQGQ\\n</td>\n",
       "      <td>Ive got an Bayonet | Damascus Steel ft, if your're interested \\n\\nhttps://steamcommunity.com/tradeoffer/new/?partner=215103279&amp;token=fCan2TeW</td>\n",
       "      <td>Shameless plug for our Facebook page, all home made memes https://www.facebook.com/IMakeBleachAndDrinkMemes</td>\n",
       "      <td>1</td>\n",
       "    </tr>\n",
       "    <tr>\n",
       "      <th>1293</th>\n",
       "      <td>1293</td>\n",
       "      <td>#stop deleting comments. What you did was fraud.\\nhttps://sli.mg/3GGiCy</td>\n",
       "      <td>No legal advice: Do not offer or request legal advice.</td>\n",
       "      <td>The_Donald</td>\n",
       "      <td>Well first you have to figure out if there is even a way that you can do such an agreement and you have to talk to a lawyer about that.</td>\n",
       "      <td>Maybe true, but that's very short-sighted. The lawsuits are already in the hundreds though on this. He's going to be getting sued six ways to sunset for his entire term. The Constitution offers ve...</td>\n",
       "      <td>&gt; Yeah she initiated it **when I was sleeping**\\n\\nThat's certainly the unambiguous part of the story. Sexual assault, no gray area.\\n\\n</td>\n",
       "      <td>If it's *only* killing sick, elderly people - isn't it kind of... alright?</td>\n",
       "      <td>0</td>\n",
       "    </tr>\n",
       "  </tbody>\n",
       "</table>\n",
       "</div>"
      ],
      "text/plain": [
       "      row_id  \\\n",
       "1356    1356   \n",
       "984      984   \n",
       "859      859   \n",
       "1983    1983   \n",
       "1293    1293   \n",
       "\n",
       "                                                                                                           body  \\\n",
       "1356                             All people visit your sister therein such a tits! http://codimenu.com/ac/16php   \n",
       "984                                            Try and see if someone at www.siddhantayoga.com can help you ...   \n",
       "859   DOUBLE CEE x BANDS EPPS - \"BIRDS\"\\n\\nDOWNLOAD/STREAM:\\n\\nhttp://music.theblacksmithed.com/download/birds/   \n",
       "1983                                    WWW.CSGOPOT.COM USE PROMO: CSGOPOTPRO FOR FREE DIAMONDS WWW.CSGOPOT.COM   \n",
       "1293                                    #stop deleting comments. What you did was fraud.\\nhttps://sli.mg/3GGiCy   \n",
       "\n",
       "                                                                                                         rule  \\\n",
       "1356  No Advertising: Spam, referral links, unsolicited advertising, and promotional content are not allowed.   \n",
       "984   No Advertising: Spam, referral links, unsolicited advertising, and promotional content are not allowed.   \n",
       "859   No Advertising: Spam, referral links, unsolicited advertising, and promotional content are not allowed.   \n",
       "1983  No Advertising: Spam, referral links, unsolicited advertising, and promotional content are not allowed.   \n",
       "1293                                                   No legal advice: Do not offer or request legal advice.   \n",
       "\n",
       "            subreddit  \\\n",
       "1356            funny   \n",
       "984      SuicideWatch   \n",
       "859            movies   \n",
       "1983  GlobalOffensive   \n",
       "1293       The_Donald   \n",
       "\n",
       "                                                                                                                                                                                           positive_example_1  \\\n",
       "1356                                                                                                                                                      49 http://MySexFind.com - find girl for sex now 49!   \n",
       "984                                                                                                                          Ray-Ban Sunglasses Special Sale at $24.99 Shop Now >>> http://www.rbsclassic.com   \n",
       "859                                                                                                                    My pecker tried best holes at this point now you win this prize http://hothor.se/1xqhk   \n",
       "1983  **Dortmund vs Real Madrid Live Stream**\\n\\n**<<< http://www.dortmund-vs-realmadrid-live.cf >>>**\\n\\n**HD Quality Streams**\\n\\n**<<< http://www.dortmund-vs-realmadrid-live.cf >>>**\\n\\n**HD SOUND Qu...   \n",
       "1293                                                                 Well first you have to figure out if there is even a way that you can do such an agreement and you have to talk to a lawyer about that.    \n",
       "\n",
       "                                                                                                                                                                                           positive_example_2  \\\n",
       "1356                                                                                                                                         FindSexToday . com - free girls for sex worldwide 3oBKmqU6XiS14!   \n",
       "984                                                                                                                                        Help my mans get to 500 dollars\\nhttp://referdone.com/?share=10399   \n",
       "859   Trying to raise some funds on PayPal for a boob job any donations appreciated 1-100 I'm up for anything have loads of pictures and videos to share also just about to shower so can take more 😘😘 I'm...   \n",
       "1983                                                       Selling Tyrande code for 3€ to paypal. PM if interested.\\n\\nProof of satisfied Tyrande owners: http://imgur.com/a/jydZ7 http://imgur.com/a/jIQGQ\\n   \n",
       "1293  Maybe true, but that's very short-sighted. The lawsuits are already in the hundreds though on this. He's going to be getting sued six ways to sunset for his entire term. The Constitution offers ve...   \n",
       "\n",
       "                                                                                                                                 negative_example_1  \\\n",
       "1356                             SD Stream [Spanish Stream](http://www.expresssports.ml/p/adsbygoogle-window_146.html)    \\nMobile : Not Compatible   \n",
       "984                                                                        If anyone is interested in donating 5 or 10 bucks https://timcanova.com/   \n",
       "859             How to Record Android or IPhone Screen  Without Rooted Devices . Full Tutorial Watch here https://m.youtube.com/watch?v=FyD2MYbSnKE   \n",
       "1983  Ive got an Bayonet | Damascus Steel ft, if your're interested \\n\\nhttps://steamcommunity.com/tradeoffer/new/?partner=215103279&token=fCan2TeW   \n",
       "1293       > Yeah she initiated it **when I was sleeping**\\n\\nThat's certainly the unambiguous part of the story. Sexual assault, no gray area.\\n\\n   \n",
       "\n",
       "                                                                                                                                                                                           negative_example_2  \\\n",
       "1356                                                                                                                                 Here's the link. \\n\\nhttp://www.powerhousetradingsystem.com/trading.html   \n",
       "984   Same shit happened to me man.  EXACT same thing, so it's probably AmWay.  They got that procedure down pat, probably because it works so well.  At the end, I tried to reason with the guy because h...   \n",
       "859                                   SD Stream Eng - [Chelsea TV USA](http://soccerstreamsarena.com/chelsea-u23-vs-tottenham-u23-live-epl2-09-sep-2016/) \\n\\nMobile : Compatible With Android Puffin Browser   \n",
       "1983                                                                                              Shameless plug for our Facebook page, all home made memes https://www.facebook.com/IMakeBleachAndDrinkMemes   \n",
       "1293                                                                                                                               If it's *only* killing sick, elderly people - isn't it kind of... alright?   \n",
       "\n",
       "      rule_violation  \n",
       "1356               1  \n",
       "984                0  \n",
       "859                0  \n",
       "1983               1  \n",
       "1293               0  "
      ]
     },
     "execution_count": 11,
     "metadata": {},
     "output_type": "execute_result"
    }
   ],
   "source": [
    "train.sample(5, random_state=42)"
   ]
  },
  {
   "cell_type": "code",
   "execution_count": 12,
   "id": "dc94039f",
   "metadata": {},
   "outputs": [
    {
     "data": {
      "text/html": [
       "<div>\n",
       "<style scoped>\n",
       "    .dataframe tbody tr th:only-of-type {\n",
       "        vertical-align: middle;\n",
       "    }\n",
       "\n",
       "    .dataframe tbody tr th {\n",
       "        vertical-align: top;\n",
       "    }\n",
       "\n",
       "    .dataframe thead th {\n",
       "        text-align: right;\n",
       "    }\n",
       "</style>\n",
       "<table border=\"1\" class=\"dataframe\">\n",
       "  <thead>\n",
       "    <tr style=\"text-align: right;\">\n",
       "      <th></th>\n",
       "      <th>count</th>\n",
       "      <th>pct</th>\n",
       "    </tr>\n",
       "    <tr>\n",
       "      <th>rule_violation</th>\n",
       "      <th></th>\n",
       "      <th></th>\n",
       "    </tr>\n",
       "  </thead>\n",
       "  <tbody>\n",
       "    <tr>\n",
       "      <th>1</th>\n",
       "      <td>1031</td>\n",
       "      <td>0.508132</td>\n",
       "    </tr>\n",
       "    <tr>\n",
       "      <th>0</th>\n",
       "      <td>998</td>\n",
       "      <td>0.491868</td>\n",
       "    </tr>\n",
       "  </tbody>\n",
       "</table>\n",
       "</div>"
      ],
      "text/plain": [
       "                count       pct\n",
       "rule_violation                 \n",
       "1                1031  0.508132\n",
       "0                 998  0.491868"
      ]
     },
     "execution_count": 12,
     "metadata": {},
     "output_type": "execute_result"
    }
   ],
   "source": [
    "train[target].value_counts(dropna=False).to_frame(\"count\").assign(pct=lambda t: t[\"count\"]/len(train))"
   ]
  },
  {
   "cell_type": "code",
   "execution_count": 13,
   "id": "64368bb6",
   "metadata": {},
   "outputs": [
    {
     "data": {
      "text/plain": [
       "row_id                0.0\n",
       "body                  0.0\n",
       "rule                  0.0\n",
       "subreddit             0.0\n",
       "positive_example_1    0.0\n",
       "positive_example_2    0.0\n",
       "negative_example_1    0.0\n",
       "negative_example_2    0.0\n",
       "rule_violation        0.0\n",
       "dtype: float64"
      ]
     },
     "execution_count": 13,
     "metadata": {},
     "output_type": "execute_result"
    }
   ],
   "source": [
    "train.isna().mean().sort_values(ascending=False)"
   ]
  },
  {
   "cell_type": "markdown",
   "id": "a74e2d41",
   "metadata": {},
   "source": [
    "#### Let's count how many rows are exact duplicates of earlier rows in all columns."
   ]
  },
  {
   "cell_type": "code",
   "execution_count": 18,
   "id": "aa5d6e6e",
   "metadata": {},
   "outputs": [
    {
     "data": {
      "text/plain": [
       "np.int64(0)"
      ]
     },
     "execution_count": 18,
     "metadata": {},
     "output_type": "execute_result"
    }
   ],
   "source": [
    "train.duplicated().sum()"
   ]
  },
  {
   "cell_type": "markdown",
   "id": "00a72f21",
   "metadata": {},
   "source": [
    "#### Let's counts how many times the same row ID appears more than once"
   ]
  },
  {
   "cell_type": "code",
   "execution_count": 19,
   "id": "39370aac",
   "metadata": {},
   "outputs": [
    {
     "data": {
      "text/plain": [
       "np.int64(0)"
      ]
     },
     "execution_count": 19,
     "metadata": {},
     "output_type": "execute_result"
    }
   ],
   "source": [
    "train[id_cols[0]].duplicated().sum()"
   ]
  },
  {
   "cell_type": "markdown",
   "id": "349a4922",
   "metadata": {},
   "source": [
    "#### Checking Target leakage in the train dataset"
   ]
  },
  {
   "cell_type": "markdown",
   "id": "2248e9a3",
   "metadata": {},
   "source": [
    "##### Hard leakage"
   ]
  },
  {
   "cell_type": "code",
   "execution_count": null,
   "id": "7c42e982",
   "metadata": {},
   "outputs": [
    {
     "data": {
      "text/plain": [
       "12902"
      ]
     },
     "execution_count": 23,
     "metadata": {},
     "output_type": "execute_result"
    }
   ],
   "source": [
    "matches = 0\n",
    "\n",
    "for col in [\"positive_example_1\", \"positive_example_2\", \"negative_example_1\", \"negative_example_2\"]:\n",
    "    matches += train.merge(\n",
    "        train[[\"row_id\", col]].rename(columns = {col:\"x\"}),\n",
    "        left_on = \"body\",\n",
    "        right_on = \"x\",\n",
    "        how = \"inner\"\n",
    "    ).shape[0]\n",
    "\n",
    "matches"
   ]
  },
  {
   "cell_type": "markdown",
   "id": "01fdeb02",
   "metadata": {},
   "source": [
    "##### Soft Leakage"
   ]
  },
  {
   "cell_type": "code",
   "execution_count": null,
   "id": "314a774a",
   "metadata": {},
   "outputs": [
    {
     "data": {
      "text/plain": [
       "1776"
      ]
     },
     "execution_count": 24,
     "metadata": {},
     "output_type": "execute_result"
    }
   ],
   "source": [
    "# top_ngrams() is defined to find the most frequent n-grams\n",
    "def top_ngrams(texts, ngram_range = (2,2), topk=2000): \n",
    "    v = CountVectorizer(ngram_range=ngram_range, min_df=2) # min_df=2 means it only include phrases that appear in at least 2 documents\n",
    "    X = v.fit_transform(texts)\n",
    "    freqs = np.asarray(X.sum(0)).ravel()\n",
    "    order = freqs.argsort()[::-1][:topk]\n",
    "    vocab = np.array(sorted(v.vocabulary_.items(), key=lambda kv:kv[1]))[:, 0]\n",
    "    return set(vocab[order])\n",
    "\n",
    "body_bi = top_ngrams(train[\"body\"].fillna(\"\"),(2,2), 3000)\n",
    "ex_all = pd.Series(train[text_cols[1:]].fillna(\"\").agg(\" \".join, axis=1))\n",
    "ex_bi = top_ngrams(ex_all, (2,2), 3000)\n",
    "len(body_bi & ex_bi )\n"
   ]
  },
  {
   "cell_type": "markdown",
   "id": "cd55bd78",
   "metadata": {},
   "source": [
    "# Checking out for Missing values & basic cleaning"
   ]
  },
  {
   "cell_type": "code",
   "execution_count": null,
   "id": "82e13239",
   "metadata": {},
   "outputs": [
    {
     "data": {
      "text/plain": [
       "body                  0.0\n",
       "rule                  0.0\n",
       "positive_example_1    0.0\n",
       "positive_example_2    0.0\n",
       "negative_example_1    0.0\n",
       "negative_example_2    0.0\n",
       "subreddit             0.0\n",
       "dtype: float64"
      ]
     },
     "execution_count": 26,
     "metadata": {},
     "output_type": "execute_result"
    }
   ],
   "source": [
    "# How often each text field is empty/whitespace\n",
    "\n",
    "def empty_rate(s): \n",
    "    return s.fillna(\"\").str.strip().eq(\"\").mean()\n",
    "pd.Series({c: empty_rate(train[c]) for c in text_cols + cat_cols})"
   ]
  },
  {
   "cell_type": "code",
   "execution_count": 28,
   "id": "64dd199a",
   "metadata": {},
   "outputs": [],
   "source": [
    "# normalize() creates Simple normalized versions for analysis\n",
    "\n",
    "def normalize(s):\n",
    "    s = s.fillna(\"\").str.replace(r\"\\s+\", \" \", regex=True).str.strip()                           \n",
    "                    # Replace NaN/None with empty string \n",
    "                    # Replace multiple whitespace (spaces, tabs, newlines) with a single space\n",
    "                    # Remove leading and trailing spaces\n",
    "    return s\n",
    "\n",
    "for c in text_cols:\n",
    "    train[c+\"_clean\"] = normalize(train[c])\n",
    "\n",
    "train[\"subreddit\"] = train[\"subreddit\"].astype(\"category\")"
   ]
  },
  {
   "cell_type": "markdown",
   "id": "741eb014",
   "metadata": {},
   "source": [
    "#### Exploring Columns"
   ]
  },
  {
   "cell_type": "markdown",
   "id": "a22d936f",
   "metadata": {},
   "source": [
    "##### *I] subreddit*"
   ]
  },
  {
   "cell_type": "code",
   "execution_count": 29,
   "id": "fe0e3d37",
   "metadata": {},
   "outputs": [
    {
     "data": {
      "text/html": [
       "<div>\n",
       "<style scoped>\n",
       "    .dataframe tbody tr th:only-of-type {\n",
       "        vertical-align: middle;\n",
       "    }\n",
       "\n",
       "    .dataframe tbody tr th {\n",
       "        vertical-align: top;\n",
       "    }\n",
       "\n",
       "    .dataframe thead th {\n",
       "        text-align: right;\n",
       "    }\n",
       "</style>\n",
       "<table border=\"1\" class=\"dataframe\">\n",
       "  <thead>\n",
       "    <tr style=\"text-align: right;\">\n",
       "      <th></th>\n",
       "      <th>count</th>\n",
       "      <th>pct</th>\n",
       "    </tr>\n",
       "    <tr>\n",
       "      <th>subreddit</th>\n",
       "      <th></th>\n",
       "      <th></th>\n",
       "    </tr>\n",
       "  </thead>\n",
       "  <tbody>\n",
       "    <tr>\n",
       "      <th>legaladvice</th>\n",
       "      <td>213</td>\n",
       "      <td>0.104978</td>\n",
       "    </tr>\n",
       "    <tr>\n",
       "      <th>AskReddit</th>\n",
       "      <td>152</td>\n",
       "      <td>0.074914</td>\n",
       "    </tr>\n",
       "    <tr>\n",
       "      <th>soccerstreams</th>\n",
       "      <td>139</td>\n",
       "      <td>0.068507</td>\n",
       "    </tr>\n",
       "    <tr>\n",
       "      <th>personalfinance</th>\n",
       "      <td>125</td>\n",
       "      <td>0.061607</td>\n",
       "    </tr>\n",
       "    <tr>\n",
       "      <th>relationships</th>\n",
       "      <td>106</td>\n",
       "      <td>0.052242</td>\n",
       "    </tr>\n",
       "    <tr>\n",
       "      <th>The_Donald</th>\n",
       "      <td>94</td>\n",
       "      <td>0.046328</td>\n",
       "    </tr>\n",
       "    <tr>\n",
       "      <th>TwoXChromosomes</th>\n",
       "      <td>87</td>\n",
       "      <td>0.042878</td>\n",
       "    </tr>\n",
       "    <tr>\n",
       "      <th>news</th>\n",
       "      <td>65</td>\n",
       "      <td>0.032035</td>\n",
       "    </tr>\n",
       "    <tr>\n",
       "      <th>movies</th>\n",
       "      <td>56</td>\n",
       "      <td>0.027600</td>\n",
       "    </tr>\n",
       "    <tr>\n",
       "      <th>videos</th>\n",
       "      <td>50</td>\n",
       "      <td>0.024643</td>\n",
       "    </tr>\n",
       "    <tr>\n",
       "      <th>worldnews</th>\n",
       "      <td>49</td>\n",
       "      <td>0.024150</td>\n",
       "    </tr>\n",
       "    <tr>\n",
       "      <th>politics</th>\n",
       "      <td>49</td>\n",
       "      <td>0.024150</td>\n",
       "    </tr>\n",
       "    <tr>\n",
       "      <th>sex</th>\n",
       "      <td>42</td>\n",
       "      <td>0.020700</td>\n",
       "    </tr>\n",
       "    <tr>\n",
       "      <th>science</th>\n",
       "      <td>32</td>\n",
       "      <td>0.015771</td>\n",
       "    </tr>\n",
       "    <tr>\n",
       "      <th>pics</th>\n",
       "      <td>30</td>\n",
       "      <td>0.014786</td>\n",
       "    </tr>\n",
       "    <tr>\n",
       "      <th>pokemongo</th>\n",
       "      <td>30</td>\n",
       "      <td>0.014786</td>\n",
       "    </tr>\n",
       "    <tr>\n",
       "      <th>Showerthoughts</th>\n",
       "      <td>29</td>\n",
       "      <td>0.014293</td>\n",
       "    </tr>\n",
       "    <tr>\n",
       "      <th>GlobalOffensiveTrade</th>\n",
       "      <td>26</td>\n",
       "      <td>0.012814</td>\n",
       "    </tr>\n",
       "    <tr>\n",
       "      <th>pokemon</th>\n",
       "      <td>22</td>\n",
       "      <td>0.010843</td>\n",
       "    </tr>\n",
       "    <tr>\n",
       "      <th>funny</th>\n",
       "      <td>22</td>\n",
       "      <td>0.010843</td>\n",
       "    </tr>\n",
       "  </tbody>\n",
       "</table>\n",
       "</div>"
      ],
      "text/plain": [
       "                      count       pct\n",
       "subreddit                            \n",
       "legaladvice             213  0.104978\n",
       "AskReddit               152  0.074914\n",
       "soccerstreams           139  0.068507\n",
       "personalfinance         125  0.061607\n",
       "relationships           106  0.052242\n",
       "The_Donald               94  0.046328\n",
       "TwoXChromosomes          87  0.042878\n",
       "news                     65  0.032035\n",
       "movies                   56  0.027600\n",
       "videos                   50  0.024643\n",
       "worldnews                49  0.024150\n",
       "politics                 49  0.024150\n",
       "sex                      42  0.020700\n",
       "science                  32  0.015771\n",
       "pics                     30  0.014786\n",
       "pokemongo                30  0.014786\n",
       "Showerthoughts           29  0.014293\n",
       "GlobalOffensiveTrade     26  0.012814\n",
       "pokemon                  22  0.010843\n",
       "funny                    22  0.010843"
      ]
     },
     "execution_count": 29,
     "metadata": {},
     "output_type": "execute_result"
    }
   ],
   "source": [
    "sub_counts = train[\"subreddit\"].value_counts().to_frame(\"count\").assign(pct=lambda t: t[\"count\"]/len(train))\n",
    "sub_counts.head(20)\n"
   ]
  },
  {
   "cell_type": "code",
   "execution_count": null,
   "id": "f99dcdc9",
   "metadata": {},
   "outputs": [
    {
     "name": "stderr",
     "output_type": "stream",
     "text": [
      "/var/folders/p0/bs5mtjhd6016xb_dz27dp3t00000gn/T/ipykernel_36283/280065292.py:3: FutureWarning: The default of observed=False is deprecated and will be changed to True in a future version of pandas. Pass observed=False to retain current behavior or observed=True to adopt the future default and silence this warning.\n",
      "  tmp = (train.groupby(\"subreddit\")[target]\n"
     ]
    },
    {
     "data": {
      "text/html": [
       "<div>\n",
       "<style scoped>\n",
       "    .dataframe tbody tr th:only-of-type {\n",
       "        vertical-align: middle;\n",
       "    }\n",
       "\n",
       "    .dataframe tbody tr th {\n",
       "        vertical-align: top;\n",
       "    }\n",
       "\n",
       "    .dataframe thead th {\n",
       "        text-align: right;\n",
       "    }\n",
       "</style>\n",
       "<table border=\"1\" class=\"dataframe\">\n",
       "  <thead>\n",
       "    <tr style=\"text-align: right;\">\n",
       "      <th></th>\n",
       "      <th>count</th>\n",
       "      <th>violation_rate</th>\n",
       "    </tr>\n",
       "    <tr>\n",
       "      <th>subreddit</th>\n",
       "      <th></th>\n",
       "      <th></th>\n",
       "    </tr>\n",
       "  </thead>\n",
       "  <tbody>\n",
       "    <tr>\n",
       "      <th>sex</th>\n",
       "      <td>42</td>\n",
       "      <td>0.809524</td>\n",
       "    </tr>\n",
       "    <tr>\n",
       "      <th>legaladvice</th>\n",
       "      <td>213</td>\n",
       "      <td>0.788732</td>\n",
       "    </tr>\n",
       "    <tr>\n",
       "      <th>personalfinance</th>\n",
       "      <td>125</td>\n",
       "      <td>0.696000</td>\n",
       "    </tr>\n",
       "    <tr>\n",
       "      <th>relationships</th>\n",
       "      <td>106</td>\n",
       "      <td>0.613208</td>\n",
       "    </tr>\n",
       "    <tr>\n",
       "      <th>politics</th>\n",
       "      <td>49</td>\n",
       "      <td>0.591837</td>\n",
       "    </tr>\n",
       "    <tr>\n",
       "      <th>news</th>\n",
       "      <td>65</td>\n",
       "      <td>0.584615</td>\n",
       "    </tr>\n",
       "    <tr>\n",
       "      <th>pics</th>\n",
       "      <td>30</td>\n",
       "      <td>0.566667</td>\n",
       "    </tr>\n",
       "    <tr>\n",
       "      <th>The_Donald</th>\n",
       "      <td>94</td>\n",
       "      <td>0.553191</td>\n",
       "    </tr>\n",
       "    <tr>\n",
       "      <th>AskReddit</th>\n",
       "      <td>152</td>\n",
       "      <td>0.480263</td>\n",
       "    </tr>\n",
       "    <tr>\n",
       "      <th>TwoXChromosomes</th>\n",
       "      <td>87</td>\n",
       "      <td>0.459770</td>\n",
       "    </tr>\n",
       "    <tr>\n",
       "      <th>pokemongo</th>\n",
       "      <td>30</td>\n",
       "      <td>0.400000</td>\n",
       "    </tr>\n",
       "    <tr>\n",
       "      <th>videos</th>\n",
       "      <td>50</td>\n",
       "      <td>0.400000</td>\n",
       "    </tr>\n",
       "    <tr>\n",
       "      <th>worldnews</th>\n",
       "      <td>49</td>\n",
       "      <td>0.387755</td>\n",
       "    </tr>\n",
       "    <tr>\n",
       "      <th>movies</th>\n",
       "      <td>56</td>\n",
       "      <td>0.375000</td>\n",
       "    </tr>\n",
       "    <tr>\n",
       "      <th>science</th>\n",
       "      <td>32</td>\n",
       "      <td>0.375000</td>\n",
       "    </tr>\n",
       "    <tr>\n",
       "      <th>soccerstreams</th>\n",
       "      <td>139</td>\n",
       "      <td>0.028777</td>\n",
       "    </tr>\n",
       "  </tbody>\n",
       "</table>\n",
       "</div>"
      ],
      "text/plain": [
       "                 count  violation_rate\n",
       "subreddit                             \n",
       "sex                 42        0.809524\n",
       "legaladvice        213        0.788732\n",
       "personalfinance    125        0.696000\n",
       "relationships      106        0.613208\n",
       "politics            49        0.591837\n",
       "news                65        0.584615\n",
       "pics                30        0.566667\n",
       "The_Donald          94        0.553191\n",
       "AskReddit          152        0.480263\n",
       "TwoXChromosomes     87        0.459770\n",
       "pokemongo           30        0.400000\n",
       "videos              50        0.400000\n",
       "worldnews           49        0.387755\n",
       "movies              56        0.375000\n",
       "science             32        0.375000\n",
       "soccerstreams      139        0.028777"
      ]
     },
     "execution_count": 31,
     "metadata": {},
     "output_type": "execute_result"
    }
   ],
   "source": [
    "# Calculating how often rule violations happen in each subreddit - only for subreddits that have enough data to be meaningful\n",
    "\n",
    "tmp = (train.groupby(\"subreddit\")[target]\n",
    "         .agg([\"count\",\"mean\"])\n",
    "         .rename(columns={\"mean\":\"violation_rate\"})\n",
    "         .query(\"count >= 30\")\n",
    "         .sort_values(\"violation_rate\", ascending=False))\n",
    "\n",
    "tmp.head(20)"
   ]
  },
  {
   "cell_type": "markdown",
   "id": "bc7b12d1",
   "metadata": {},
   "source": [
    "##### *II] subreddit*"
   ]
  },
  {
   "cell_type": "code",
   "execution_count": null,
   "id": "739bb137",
   "metadata": {},
   "outputs": [
    {
     "data": {
      "text/html": [
       "<div>\n",
       "<style scoped>\n",
       "    .dataframe tbody tr th:only-of-type {\n",
       "        vertical-align: middle;\n",
       "    }\n",
       "\n",
       "    .dataframe tbody tr th {\n",
       "        vertical-align: top;\n",
       "    }\n",
       "\n",
       "    .dataframe thead th {\n",
       "        text-align: right;\n",
       "    }\n",
       "</style>\n",
       "<table border=\"1\" class=\"dataframe\">\n",
       "  <thead>\n",
       "    <tr style=\"text-align: right;\">\n",
       "      <th></th>\n",
       "      <th>count</th>\n",
       "      <th>pct</th>\n",
       "    </tr>\n",
       "    <tr>\n",
       "      <th>rule</th>\n",
       "      <th></th>\n",
       "      <th></th>\n",
       "    </tr>\n",
       "  </thead>\n",
       "  <tbody>\n",
       "    <tr>\n",
       "      <th>No legal advice: Do not offer or request legal advice.</th>\n",
       "      <td>1017</td>\n",
       "      <td>0.501232</td>\n",
       "    </tr>\n",
       "    <tr>\n",
       "      <th>No Advertising: Spam, referral links, unsolicited advertising, and promotional content are not allowed.</th>\n",
       "      <td>1012</td>\n",
       "      <td>0.498768</td>\n",
       "    </tr>\n",
       "  </tbody>\n",
       "</table>\n",
       "</div>"
      ],
      "text/plain": [
       "                                                                                                         count  \\\n",
       "rule                                                                                                             \n",
       "No legal advice: Do not offer or request legal advice.                                                    1017   \n",
       "No Advertising: Spam, referral links, unsolicited advertising, and promotional content are not allowed.   1012   \n",
       "\n",
       "                                                                                                              pct  \n",
       "rule                                                                                                               \n",
       "No legal advice: Do not offer or request legal advice.                                                   0.501232  \n",
       "No Advertising: Spam, referral links, unsolicited advertising, and promotional content are not allowed.  0.498768  "
      ]
     },
     "execution_count": 33,
     "metadata": {},
     "output_type": "execute_result"
    }
   ],
   "source": [
    "rule_counts = (train[\"rule\"].fillna(\"NA\").value_counts()\n",
    "               .to_frame(\"count\")\n",
    "               .assign(pct=lambda t: t[\"count\"]/len(train)))\n",
    "\n",
    "rule_counts.head(20)\n",
    "\n",
    "\n"
   ]
  },
  {
   "cell_type": "code",
   "execution_count": 34,
   "id": "9c1f5a1e",
   "metadata": {},
   "outputs": [
    {
     "data": {
      "text/html": [
       "<div>\n",
       "<style scoped>\n",
       "    .dataframe tbody tr th:only-of-type {\n",
       "        vertical-align: middle;\n",
       "    }\n",
       "\n",
       "    .dataframe tbody tr th {\n",
       "        vertical-align: top;\n",
       "    }\n",
       "\n",
       "    .dataframe thead th {\n",
       "        text-align: right;\n",
       "    }\n",
       "</style>\n",
       "<table border=\"1\" class=\"dataframe\">\n",
       "  <thead>\n",
       "    <tr style=\"text-align: right;\">\n",
       "      <th></th>\n",
       "      <th>count</th>\n",
       "      <th>violation_rate</th>\n",
       "    </tr>\n",
       "    <tr>\n",
       "      <th>rule</th>\n",
       "      <th></th>\n",
       "      <th></th>\n",
       "    </tr>\n",
       "  </thead>\n",
       "  <tbody>\n",
       "    <tr>\n",
       "      <th>No legal advice: Do not offer or request legal advice.</th>\n",
       "      <td>1017</td>\n",
       "      <td>0.583088</td>\n",
       "    </tr>\n",
       "    <tr>\n",
       "      <th>No Advertising: Spam, referral links, unsolicited advertising, and promotional content are not allowed.</th>\n",
       "      <td>1012</td>\n",
       "      <td>0.432806</td>\n",
       "    </tr>\n",
       "  </tbody>\n",
       "</table>\n",
       "</div>"
      ],
      "text/plain": [
       "                                                                                                         count  \\\n",
       "rule                                                                                                             \n",
       "No legal advice: Do not offer or request legal advice.                                                    1017   \n",
       "No Advertising: Spam, referral links, unsolicited advertising, and promotional content are not allowed.   1012   \n",
       "\n",
       "                                                                                                         violation_rate  \n",
       "rule                                                                                                                     \n",
       "No legal advice: Do not offer or request legal advice.                                                         0.583088  \n",
       "No Advertising: Spam, referral links, unsolicited advertising, and promotional content are not allowed.        0.432806  "
      ]
     },
     "execution_count": 34,
     "metadata": {},
     "output_type": "execute_result"
    }
   ],
   "source": [
    "# Violation rate per rule (for rules with support)\n",
    "rule_stats = (train.assign(rule=train[\"rule\"].fillna(\"NA\"))\n",
    "                .groupby(\"rule\")[target]\n",
    "                .agg([\"count\",\"mean\"])\n",
    "                .rename(columns={\"mean\":\"violation_rate\"})\n",
    "                .query(\"count >= 20\")\n",
    "                .sort_values(\"violation_rate\", ascending=False))\n",
    "rule_stats.head(20)"
   ]
  },
  {
   "cell_type": "code",
   "execution_count": null,
   "id": "7636fd87",
   "metadata": {},
   "outputs": [],
   "source": [
    "/kaggle/input/jigsaw-agile-community-rules/sample_submission.csv\n",
    "/kaggle/input/jigsaw-agile-community-rules/train.csv\n",
    "/kaggle/input/jigsaw-agile-community-rules/test.csv"
   ]
  }
 ],
 "metadata": {
  "kernelspec": {
   "display_name": ".venv",
   "language": "python",
   "name": "python3"
  },
  "language_info": {
   "codemirror_mode": {
    "name": "ipython",
    "version": 3
   },
   "file_extension": ".py",
   "mimetype": "text/x-python",
   "name": "python",
   "nbconvert_exporter": "python",
   "pygments_lexer": "ipython3",
   "version": "3.10.9"
  }
 },
 "nbformat": 4,
 "nbformat_minor": 5
}
