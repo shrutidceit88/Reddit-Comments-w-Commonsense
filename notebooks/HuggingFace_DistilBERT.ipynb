{
 "cells": [
  {
   "cell_type": "markdown",
   "id": "ccdfc6ea",
   "metadata": {},
   "source": [
    "#### Import Libraries"
   ]
  },
  {
   "cell_type": "code",
   "execution_count": null,
   "id": "57df120b",
   "metadata": {},
   "outputs": [],
   "source": [
    "import numpy as np\n",
    "import pandas as pd\n",
    "from pathlib import Path\n",
    "from sklearn.model_selection import train_test_split\n",
    "from sklearn.metrics import accuracy_score, precision_recall_fscore_support\n",
    "from datasets import Dataset\n",
    "\n",
    "from transformers import (\n",
    "    AutoTokenizer,\n",
    "    AutoModelForSequenceClassification,\n",
    "    TrainingArguments,\n",
    "    Trainer,\n",
    ")"
   ]
  },
  {
   "cell_type": "markdown",
   "id": "cf90a4e0",
   "metadata": {},
   "source": [
    "#### Import Data"
   ]
  },
  {
   "cell_type": "code",
   "execution_count": 48,
   "id": "981a3621",
   "metadata": {},
   "outputs": [],
   "source": [
    "data = Path(\"../data\")"
   ]
  },
  {
   "cell_type": "code",
   "execution_count": 49,
   "id": "f0c035e1",
   "metadata": {},
   "outputs": [],
   "source": [
    "train_path = data/\"train.csv\"\n",
    "test_path = data/\"test.csv\"\n",
    "sample_submission_path = data/\"sample_submission.csv\""
   ]
  },
  {
   "cell_type": "code",
   "execution_count": 50,
   "id": "8baaafd8",
   "metadata": {},
   "outputs": [],
   "source": [
    "train_df = pd.read_csv(train_path)\n",
    "test_df = pd.read_csv(test_path)"
   ]
  },
  {
   "cell_type": "markdown",
   "id": "8b9b96ce",
   "metadata": {},
   "source": [
    "#### Setting Hyperparameters"
   ]
  },
  {
   "cell_type": "code",
   "execution_count": 51,
   "id": "e98f1762",
   "metadata": {},
   "outputs": [],
   "source": [
    "MODEL_NAME = \"distilbert-base-uncased\"  # Pretrained model from the HuggingFace Hub\n",
    "MAX_LEN = 256                           # Sequence length for the tokenizer\n",
    "RANDOM_SEED = 42"
   ]
  },
  {
   "cell_type": "markdown",
   "id": "e9556ab8",
   "metadata": {},
   "source": [
    "#### Preparing Input "
   ]
  },
  {
   "cell_type": "code",
   "execution_count": null,
   "id": "b2568e31",
   "metadata": {},
   "outputs": [],
   "source": [
    "from typing import List, Dict, Tuple\n",
    "\n",
    "def _clean(s): # Returns a trimmed string; if the value is missing/NaN it returns \"\"\n",
    "    if pd.isna(s):\n",
    "        return \"\"\n",
    "    return str(s).strip()\n",
    "\n",
    "def _to_list(*vals) -> List[str]:  # Accepts any number of arguments & Returns a list of examples\n",
    "    out = []\n",
    "    for v in vals:\n",
    "        v = _clean(v)\n",
    "        if v:\n",
    "            out.append(v)\n",
    "    return out\n",
    "\n",
    "# Defines the layout to the tokenizer/model\n",
    "TEMPLATE_RULE = \"RULE: {rule}\"\n",
    "TEMPLATE_POS = \"POS: {examples}\"\n",
    "TEMPLATE_NEG = \"NEG: {examples}\"\n",
    "TEMPLATE_COMMENT = \"COMMENT: {comment}\"\n",
    "\n",
    "def join_examples(examples: List[str], max_examples: int) -> str:\n",
    "    return \" | \".join(ex.strip() for ex in examples[:max_examples] if ex and ex.strip())\n",
    "\n",
    "def shorten_text_by_chars(txt: str, max_chars: int) -> str:\n",
    "    if len(txt) <= max_chars:\n",
    "        return txt\n",
    "    head = max_chars // 2\n",
    "    tail = max_chars - head - 3\n",
    "    return txt[:head] + \"...\" + txt[-tail:]\n",
    "\n",
    "def make_segments(rule: str,\n",
    "                  pos: List[str],\n",
    "                  neg: List[str],\n",
    "                  comment: str,\n",
    "                  pos_keep: int = 1,\n",
    "                  neg_keep: int = 1,\n",
    "                  extra_pos_keep: int = 1,\n",
    "                  extra_neg_keep: int = 1) -> Tuple[List[str], List[str]]:\n",
    "    \n",
    "    # pre-shorten examples to keep them compact\n",
    "    pos_short = [shorten_text_by_chars(p or \"\", 120) for p in (pos or []) if (p or \"\").strip()]\n",
    "    neg_short = [shorten_text_by_chars(n or \"\", 120) for n in (neg or []) if (n or \"\").strip()]\n",
    "\n",
    "    primary = [TEMPLATE_RULE.format(rule=(rule or \"\").strip())]\n",
    "    if pos_short:\n",
    "        primary.append(TEMPLATE_POS.format(examples=join_examples(pos_short, pos_keep)))\n",
    "    if neg_short:\n",
    "        primary.append(TEMPLATE_NEG.format(examples=join_examples(neg_short, neg_keep)))\n",
    "    primary.append(TEMPLATE_COMMENT.format(comment=(comment or \"\").strip()))\n",
    "\n",
    "    extras = []\n",
    "    if len(pos_short) > pos_keep:\n",
    "        extras.append(TEMPLATE_POS.format(examples=join_examples(pos_short[pos_keep:], extra_pos_keep)))\n",
    "    if len(neg_short) > neg_keep:\n",
    "        extras.append(TEMPLATE_NEG.format(examples=join_examples(neg_short[neg_keep:], extra_neg_keep)))\n",
    "\n",
    "    return primary, extras\n",
    "\n",
    "def encode_with_budget(tokenizer: AutoTokenizer,\n",
    "                       rule: str,\n",
    "                       pos: List[str],\n",
    "                       neg: List[str],\n",
    "                       comment: str,\n",
    "                       max_length: int = 256) -> Dict[str, List[int]]:\n",
    "    \"\"\"\n",
    "    Budgeting:\n",
    "      1) Always include full RULE\n",
    "      2) Ensure 1 short POS and 1 short NEG if available\n",
    "      3) Add COMMENT (shrink if needed)\n",
    "      4) Add extra POS/NEG only if room remains\n",
    "\n",
    "    We let the tokenizer add special tokens automatically.\n",
    "    \"\"\"\n",
    "    primary, extras = make_segments(rule, pos, neg, comment)\n",
    "\n",
    "    assembled: List[str] = []\n",
    "\n",
    "    for seg in primary:\n",
    "        tentative = \"\\n\".join(assembled + [seg])\n",
    "        ids = tokenizer(tentative, add_special_tokens=True, truncation=False)[\"input_ids\"]\n",
    "        if len(ids) <= max_length:\n",
    "            assembled.append(seg)\n",
    "            continue\n",
    "\n",
    "        # If comment is the issue, progressively shrink it\n",
    "        if seg.startswith(\"COMMENT:\"):\n",
    "            body = seg[len(\"COMMENT: \"):]\n",
    "            for keep in [800, 600, 400, 300, 200, 160, 120, 100, 80, 60]:\n",
    "                shrunk = \"COMMENT: \" + shorten_text_by_chars(body, keep)\n",
    "                ids2 = tokenizer(\"\\n\".join(assembled + [shrunk]),\n",
    "                                 add_special_tokens=True, truncation=False)[\"input_ids\"]\n",
    "                if len(ids2) <= max_length:\n",
    "                    assembled.append(shrunk)\n",
    "                    break\n",
    "            # else: if still too long, we skip comment (rare)\n",
    "\n",
    "    # Try to append extras if space remains\n",
    "    for seg in extras:\n",
    "        tentative = \"\\n\".join(assembled + [seg])\n",
    "        ids = tokenizer(tentative, add_special_tokens=True, truncation=False)[\"input_ids\"]\n",
    "        if len(ids) <= max_length:\n",
    "            assembled.append(seg)\n",
    "        else:\n",
    "            break\n",
    "\n",
    "    text = \"\\n\".join(assembled)\n",
    "    return tokenizer(text, add_special_tokens=True, truncation=True, max_length=max_length)"
   ]
  },
  {
   "cell_type": "code",
   "execution_count": 33,
   "id": "9bee747e",
   "metadata": {},
   "outputs": [],
   "source": [
    "needed_cols = [\n",
    "    \"row_id\",\"body\",\"rule\",\n",
    "    \"positive_example_1\",\"positive_example_2\",\n",
    "    \"negative_example_1\",\"negative_example_2\"\n",
    "]\n",
    "missing = [c for c in needed_cols if c not in train_df.columns]\n",
    "if missing:\n",
    "    raise ValueError(f\"Train is missing: {missing}\")\n",
    "missing_test = [c for c in needed_cols if c not in test_df.columns]\n",
    "if missing_test:\n",
    "    raise ValueError(f\"Test is missing: {missing_test}\")\n",
    "\n",
    "if \"rule_violation\" not in train_df.columns:\n",
    "    raise ValueError(\"Train set must contain 'rule_violation' as the label.\")\n"
   ]
  },
  {
   "cell_type": "code",
   "execution_count": 34,
   "id": "02b277ed",
   "metadata": {},
   "outputs": [
    {
     "data": {
      "application/vnd.jupyter.widget-view+json": {
       "model_id": "1ceb850711c442c4b38ded655083628c",
       "version_major": 2,
       "version_minor": 0
      },
      "text/plain": [
       "tokenizer_config.json:   0%|          | 0.00/48.0 [00:00<?, ?B/s]"
      ]
     },
     "metadata": {},
     "output_type": "display_data"
    },
    {
     "data": {
      "application/vnd.jupyter.widget-view+json": {
       "model_id": "d1a98123abdb4f26a6ce3e122886216e",
       "version_major": 2,
       "version_minor": 0
      },
      "text/plain": [
       "config.json:   0%|          | 0.00/483 [00:00<?, ?B/s]"
      ]
     },
     "metadata": {},
     "output_type": "display_data"
    },
    {
     "data": {
      "application/vnd.jupyter.widget-view+json": {
       "model_id": "ff3ec3293afe4ed7ad82b87bfdd00a6a",
       "version_major": 2,
       "version_minor": 0
      },
      "text/plain": [
       "vocab.txt:   0%|          | 0.00/232k [00:00<?, ?B/s]"
      ]
     },
     "metadata": {},
     "output_type": "display_data"
    },
    {
     "data": {
      "application/vnd.jupyter.widget-view+json": {
       "model_id": "e459819747224fcd825df0d25cb0528e",
       "version_major": 2,
       "version_minor": 0
      },
      "text/plain": [
       "tokenizer.json:   0%|          | 0.00/466k [00:00<?, ?B/s]"
      ]
     },
     "metadata": {},
     "output_type": "display_data"
    }
   ],
   "source": [
    "tokenizer = AutoTokenizer.from_pretrained(MODEL_NAME, use_fast=True)\n",
    "\n",
    "# Train/val split (stratified if possible)\n",
    "train_split_df, val_split_df = train_test_split(\n",
    "    train_df, test_size=0.2, random_state=RANDOM_SEED, stratify=train_df[\"rule_violation\"]\n",
    ")\n",
    "\n",
    "# HF Datasets from pandas (keeps columns as-is)\n",
    "hf_train = Dataset.from_pandas(train_split_df.reset_index(drop=True))\n",
    "hf_val   = Dataset.from_pandas(val_split_df.reset_index(drop=True))\n",
    "hf_test  = Dataset.from_pandas(test_df.reset_index(drop=True))\n"
   ]
  },
  {
   "cell_type": "code",
   "execution_count": null,
   "id": "4c22b2f6",
   "metadata": {},
   "outputs": [
    {
     "data": {
      "application/vnd.jupyter.widget-view+json": {
       "model_id": "4bd834a80d744a049d23b6900e9f1593",
       "version_major": 2,
       "version_minor": 0
      },
      "text/plain": [
       "Map:   0%|          | 0/1623 [00:00<?, ? examples/s]"
      ]
     },
     "metadata": {},
     "output_type": "display_data"
    },
    {
     "data": {
      "application/vnd.jupyter.widget-view+json": {
       "model_id": "5663e121389b4cc181bcee5eb65badc0",
       "version_major": 2,
       "version_minor": 0
      },
      "text/plain": [
       "Map:   0%|          | 0/406 [00:00<?, ? examples/s]"
      ]
     },
     "metadata": {},
     "output_type": "display_data"
    },
    {
     "data": {
      "application/vnd.jupyter.widget-view+json": {
       "model_id": "17a673a6e45c40b1994de7b3b45d7d0d",
       "version_major": 2,
       "version_minor": 0
      },
      "text/plain": [
       "Map:   0%|          | 0/10 [00:00<?, ? examples/s]"
      ]
     },
     "metadata": {},
     "output_type": "display_data"
    }
   ],
   "source": [
    "def map_fn_train(batch):\n",
    "    pos_list = _to_list(batch.get(\"positive_example_1\"), batch.get(\"positive_example_2\"))\n",
    "    neg_list = _to_list(batch.get(\"negative_example_1\"), batch.get(\"negative_example_2\"))\n",
    "    enc = encode_with_budget(\n",
    "        tokenizer=tokenizer,\n",
    "        rule=_clean(batch.get(\"rule\")),\n",
    "        pos=pos_list,\n",
    "        neg=neg_list,\n",
    "        comment=_clean(batch.get(\"body\")),\n",
    "        max_length=MAX_LEN,\n",
    "    )\n",
    "    enc[\"labels\"] = int(batch.get(\"rule_violation\"))\n",
    "    return enc\n",
    "\n",
    "def map_fn_test(batch):\n",
    "    pos_list = _to_list(batch.get(\"positive_example_1\"), batch.get(\"positive_example_2\"))\n",
    "    neg_list = _to_list(batch.get(\"negative_example_1\"), batch.get(\"negative_example_2\"))\n",
    "    enc = encode_with_budget(\n",
    "        tokenizer=tokenizer,\n",
    "        rule=_clean(batch.get(\"rule\")),\n",
    "        pos=pos_list,\n",
    "        neg=neg_list,\n",
    "        comment=_clean(batch.get(\"body\")),\n",
    "        max_length=MAX_LEN,\n",
    "    )\n",
    "    \n",
    "    # keep row_id for writing back predictions later\n",
    "    enc[\"row_id\"] = int(batch.get(\"row_id\")) if pd.notna(batch.get(\"row_id\")) else -1\n",
    "    # if test also has labels, we’ll use them (optional)\n",
    "    if \"rule_violation\" in batch and pd.notna(batch[\"rule_violation\"]):\n",
    "        enc[\"labels\"] = int(batch[\"rule_violation\"])\n",
    "    return enc\n",
    "\n",
    "tokenized_train = hf_train.map(map_fn_train, remove_columns=hf_train.column_names)\n",
    "tokenized_val   = hf_val.map(map_fn_train,   remove_columns=hf_val.column_names)\n",
    "tokenized_test  = hf_test.map(map_fn_test,   remove_columns=hf_test.column_names)\n"
   ]
  },
  {
   "cell_type": "code",
   "execution_count": null,
   "id": "68ba68a6",
   "metadata": {},
   "outputs": [
    {
     "data": {
      "application/vnd.jupyter.widget-view+json": {
       "model_id": "3a5754cef5394af5a37b15a2fece6cb0",
       "version_major": 2,
       "version_minor": 0
      },
      "text/plain": [
       "model.safetensors:   0%|          | 0.00/268M [00:00<?, ?B/s]"
      ]
     },
     "metadata": {},
     "output_type": "display_data"
    },
    {
     "name": "stderr",
     "output_type": "stream",
     "text": [
      "Some weights of DistilBertForSequenceClassification were not initialized from the model checkpoint at distilbert-base-uncased and are newly initialized: ['classifier.bias', 'classifier.weight', 'pre_classifier.bias', 'pre_classifier.weight']\n",
      "You should probably TRAIN this model on a down-stream task to be able to use it for predictions and inference.\n",
      "/Users/shruti/Desktop/1 My Projects/Reddit-Comments-w-Commonsense/venv/lib/python3.11/site-packages/transformers/training_args.py:1525: FutureWarning: `evaluation_strategy` is deprecated and will be removed in version 4.46 of 🤗 Transformers. Use `eval_strategy` instead\n",
      "  warnings.warn(\n"
     ]
    },
    {
     "data": {
      "application/vnd.jupyter.widget-view+json": {
       "model_id": "5d90cda901ca4d60baf219a5890d4bc5",
       "version_major": 2,
       "version_minor": 0
      },
      "text/plain": [
       "  0%|          | 0/406 [00:00<?, ?it/s]"
      ]
     },
     "metadata": {},
     "output_type": "display_data"
    },
    {
     "name": "stderr",
     "output_type": "stream",
     "text": [
      "/Users/shruti/Desktop/1 My Projects/Reddit-Comments-w-Commonsense/venv/lib/python3.11/site-packages/torch/utils/data/dataloader.py:684: UserWarning: 'pin_memory' argument is set as true but not supported on MPS now, then device pinned memory won't be used.\n",
      "  warnings.warn(warn_msg)\n"
     ]
    },
    {
     "name": "stdout",
     "output_type": "stream",
     "text": [
      "{'loss': 0.6959, 'grad_norm': 1.4487887620925903, 'learning_rate': 4.753694581280788e-05, 'epoch': 0.1}\n",
      "{'loss': 0.6901, 'grad_norm': 1.358240008354187, 'learning_rate': 4.507389162561577e-05, 'epoch': 0.2}\n",
      "{'loss': 0.685, 'grad_norm': 1.738308310508728, 'learning_rate': 4.261083743842365e-05, 'epoch': 0.3}\n",
      "{'loss': 0.6844, 'grad_norm': 1.7866308689117432, 'learning_rate': 4.014778325123153e-05, 'epoch': 0.39}\n",
      "{'loss': 0.6996, 'grad_norm': 2.337038516998291, 'learning_rate': 3.768472906403941e-05, 'epoch': 0.49}\n",
      "{'loss': 0.698, 'grad_norm': 1.5404223203659058, 'learning_rate': 3.522167487684729e-05, 'epoch': 0.59}\n",
      "{'loss': 0.6886, 'grad_norm': 1.7242196798324585, 'learning_rate': 3.275862068965517e-05, 'epoch': 0.69}\n",
      "{'loss': 0.6656, 'grad_norm': 1.6680041551589966, 'learning_rate': 3.0295566502463057e-05, 'epoch': 0.79}\n",
      "{'loss': 0.6776, 'grad_norm': 3.2148971557617188, 'learning_rate': 2.7832512315270936e-05, 'epoch': 0.89}\n",
      "{'loss': 0.7019, 'grad_norm': 1.259026050567627, 'learning_rate': 2.5369458128078822e-05, 'epoch': 0.99}\n"
     ]
    },
    {
     "data": {
      "application/vnd.jupyter.widget-view+json": {
       "model_id": "6696b334d2ab4f2da451b32b883f2f71",
       "version_major": 2,
       "version_minor": 0
      },
      "text/plain": [
       "  0%|          | 0/51 [00:00<?, ?it/s]"
      ]
     },
     "metadata": {},
     "output_type": "display_data"
    },
    {
     "name": "stdout",
     "output_type": "stream",
     "text": [
      "{'eval_loss': 0.6799321174621582, 'eval_accuracy': 0.6083743842364532, 'eval_precision': 0.6082949308755761, 'eval_recall': 0.6407766990291263, 'eval_f1': 0.624113475177305, 'eval_runtime': 3.7038, 'eval_samples_per_second': 109.619, 'eval_steps_per_second': 13.77, 'epoch': 1.0}\n"
     ]
    },
    {
     "name": "stderr",
     "output_type": "stream",
     "text": [
      "/Users/shruti/Desktop/1 My Projects/Reddit-Comments-w-Commonsense/venv/lib/python3.11/site-packages/torch/utils/data/dataloader.py:684: UserWarning: 'pin_memory' argument is set as true but not supported on MPS now, then device pinned memory won't be used.\n",
      "  warnings.warn(warn_msg)\n"
     ]
    },
    {
     "name": "stdout",
     "output_type": "stream",
     "text": [
      "{'loss': 0.6769, 'grad_norm': 2.310183048248291, 'learning_rate': 2.29064039408867e-05, 'epoch': 1.08}\n",
      "{'loss': 0.6798, 'grad_norm': 5.456427097320557, 'learning_rate': 2.0443349753694584e-05, 'epoch': 1.18}\n",
      "{'loss': 0.6616, 'grad_norm': 3.5358917713165283, 'learning_rate': 1.7980295566502463e-05, 'epoch': 1.28}\n",
      "{'loss': 0.6162, 'grad_norm': 4.295467376708984, 'learning_rate': 1.5517241379310346e-05, 'epoch': 1.38}\n",
      "{'loss': 0.6569, 'grad_norm': 5.367374897003174, 'learning_rate': 1.3054187192118228e-05, 'epoch': 1.48}\n",
      "{'loss': 0.6411, 'grad_norm': 3.9822044372558594, 'learning_rate': 1.0591133004926108e-05, 'epoch': 1.58}\n",
      "{'loss': 0.634, 'grad_norm': 3.223264694213867, 'learning_rate': 8.12807881773399e-06, 'epoch': 1.67}\n",
      "{'loss': 0.6451, 'grad_norm': 4.546552658081055, 'learning_rate': 5.665024630541872e-06, 'epoch': 1.77}\n",
      "{'loss': 0.586, 'grad_norm': 2.9161946773529053, 'learning_rate': 3.201970443349754e-06, 'epoch': 1.87}\n",
      "{'loss': 0.7026, 'grad_norm': 1.7037737369537354, 'learning_rate': 7.389162561576355e-07, 'epoch': 1.97}\n"
     ]
    },
    {
     "name": "stderr",
     "output_type": "stream",
     "text": [
      "/Users/shruti/Desktop/1 My Projects/Reddit-Comments-w-Commonsense/venv/lib/python3.11/site-packages/torch/utils/data/dataloader.py:684: UserWarning: 'pin_memory' argument is set as true but not supported on MPS now, then device pinned memory won't be used.\n",
      "  warnings.warn(warn_msg)\n"
     ]
    },
    {
     "data": {
      "application/vnd.jupyter.widget-view+json": {
       "model_id": "bfc0c28279ac415c9dec5e5e8544f9d3",
       "version_major": 2,
       "version_minor": 0
      },
      "text/plain": [
       "  0%|          | 0/51 [00:00<?, ?it/s]"
      ]
     },
     "metadata": {},
     "output_type": "display_data"
    },
    {
     "name": "stdout",
     "output_type": "stream",
     "text": [
      "{'eval_loss': 0.6149668097496033, 'eval_accuracy': 0.6674876847290641, 'eval_precision': 0.6263345195729537, 'eval_recall': 0.8543689320388349, 'eval_f1': 0.7227926078028748, 'eval_runtime': 3.6399, 'eval_samples_per_second': 111.54, 'eval_steps_per_second': 14.011, 'epoch': 2.0}\n",
      "{'train_runtime': 109.302, 'train_samples_per_second': 29.698, 'train_steps_per_second': 3.714, 'train_loss': 0.6700526105946508, 'epoch': 2.0}\n"
     ]
    },
    {
     "name": "stderr",
     "output_type": "stream",
     "text": [
      "/Users/shruti/Desktop/1 My Projects/Reddit-Comments-w-Commonsense/venv/lib/python3.11/site-packages/torch/utils/data/dataloader.py:684: UserWarning: 'pin_memory' argument is set as true but not supported on MPS now, then device pinned memory won't be used.\n",
      "  warnings.warn(warn_msg)\n"
     ]
    },
    {
     "data": {
      "application/vnd.jupyter.widget-view+json": {
       "model_id": "3da0871e3e2b43f98a55e817027ea015",
       "version_major": 2,
       "version_minor": 0
      },
      "text/plain": [
       "  0%|          | 0/51 [00:00<?, ?it/s]"
      ]
     },
     "metadata": {},
     "output_type": "display_data"
    },
    {
     "data": {
      "text/plain": [
       "{'eval_loss': 0.6149668097496033,\n",
       " 'eval_accuracy': 0.6674876847290641,\n",
       " 'eval_precision': 0.6263345195729537,\n",
       " 'eval_recall': 0.8543689320388349,\n",
       " 'eval_f1': 0.7227926078028748,\n",
       " 'eval_runtime': 3.7981,\n",
       " 'eval_samples_per_second': 106.894,\n",
       " 'eval_steps_per_second': 13.428,\n",
       " 'epoch': 2.0}"
      ]
     },
     "execution_count": 36,
     "metadata": {},
     "output_type": "execute_result"
    }
   ],
   "source": [
    "def compute_metrics(eval_pred):\n",
    "    logits, labels = eval_pred\n",
    "    preds = logits.argmax(axis=-1)\n",
    "    acc = accuracy_score(labels, preds)\n",
    "    p, r, f1, _ = precision_recall_fscore_support(labels, preds, average=\"binary\", zero_division=0)\n",
    "    return {\"accuracy\": acc, \"precision\": p, \"recall\": r, \"f1\": f1}\n",
    "\n",
    "model = AutoModelForSequenceClassification.from_pretrained(MODEL_NAME, num_labels=2)\n",
    "\n",
    "args = TrainingArguments(\n",
    "    learning_rate=5e-5,\n",
    "    per_device_train_batch_size=8,\n",
    "    per_device_eval_batch_size=8,\n",
    "    num_train_epochs=2,\n",
    "    weight_decay=0.01,\n",
    "    logging_steps=20,\n",
    "    evaluation_strategy=\"epoch\",\n",
    "    save_strategy=\"epoch\",\n",
    "    load_best_model_at_end=True,\n",
    "    metric_for_best_model=\"f1\",\n",
    "    report_to=[],  # no external loggers\n",
    ")\n",
    "\n",
    "trainer = Trainer(\n",
    "    model=model,\n",
    "    args=args,\n",
    "    train_dataset=tokenized_train,\n",
    "    eval_dataset=tokenized_val,\n",
    "    tokenizer=tokenizer,\n",
    "    compute_metrics=compute_metrics,\n",
    ")\n",
    "\n",
    "trainer.train()\n",
    "val_metrics = trainer.evaluate()\n",
    "val_metrics\n"
   ]
  },
  {
   "cell_type": "code",
   "execution_count": 37,
   "id": "df70c73f",
   "metadata": {},
   "outputs": [
    {
     "name": "stderr",
     "output_type": "stream",
     "text": [
      "/Users/shruti/Desktop/1 My Projects/Reddit-Comments-w-Commonsense/venv/lib/python3.11/site-packages/torch/utils/data/dataloader.py:684: UserWarning: 'pin_memory' argument is set as true but not supported on MPS now, then device pinned memory won't be used.\n",
      "  warnings.warn(warn_msg)\n"
     ]
    },
    {
     "data": {
      "application/vnd.jupyter.widget-view+json": {
       "model_id": "5a92761019be409d8f8b086447345564",
       "version_major": 2,
       "version_minor": 0
      },
      "text/plain": [
       "  0%|          | 0/2 [00:00<?, ?it/s]"
      ]
     },
     "metadata": {},
     "output_type": "display_data"
    }
   ],
   "source": [
    "preds = trainer.predict(tokenized_test.remove_columns(\n",
    "    [c for c in tokenized_test.column_names if c not in [\"input_ids\", \"attention_mask\", \"labels\"]]\n",
    "))\n",
    "logits = preds.predictions\n",
    "probs = (np.exp(logits) / np.exp(logits).sum(axis=1, keepdims=True))\n",
    "pred_labels = logits.argmax(axis=1)\n"
   ]
  },
  {
   "cell_type": "code",
   "execution_count": null,
   "id": "972a408b",
   "metadata": {},
   "outputs": [],
   "source": []
  }
 ],
 "metadata": {
  "kernelspec": {
   "display_name": "venv",
   "language": "python",
   "name": "python3"
  },
  "language_info": {
   "codemirror_mode": {
    "name": "ipython",
    "version": 3
   },
   "file_extension": ".py",
   "mimetype": "text/x-python",
   "name": "python",
   "nbconvert_exporter": "python",
   "pygments_lexer": "ipython3",
   "version": "3.11.3"
  }
 },
 "nbformat": 4,
 "nbformat_minor": 5
}
